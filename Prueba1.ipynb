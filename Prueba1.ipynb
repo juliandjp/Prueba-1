{
 "cells": [
  {
   "cell_type": "markdown",
   "metadata": {},
   "source": [
    "# Problema 1. "
   ]
  },
  {
   "cell_type": "code",
   "execution_count": 1,
   "metadata": {},
   "outputs": [],
   "source": [
    "# importar los modulos\n",
    "import pandas as pd\n",
    "import numpy as np\n",
    "from matplotlib import pyplot as plt\n",
    "import seaborn as sns\n",
    "from sklearn.linear_model import LinearRegression\n",
    "from sklearn.linear_model import LogisticRegression\n",
    "from sklearn.model_selection import train_test_split\n",
    "from sklearn.model_selection import GridSearchCV\n",
    "from sklearn.model_selection import KFold\n",
    "from sklearn.feature_selection import chi2\n",
    "from sklearn.metrics import plot_roc_curve\n",
    "from sklearn.preprocessing import MinMaxScaler\n",
    "from sklearn.neighbors import KNeighborsClassifier\n",
    "from sklearn import metrics\n",
    "import statsmodels.api as sm\n"
   ]
  },
  {
   "cell_type": "markdown",
   "metadata": {},
   "source": [
    "# Exploracion de los Datos"
   ]
  },
  {
   "cell_type": "code",
   "execution_count": 2,
   "metadata": {},
   "outputs": [
    {
     "name": "stdout",
     "output_type": "stream",
     "text": [
      "Filas:  20 Columnas:  10\n"
     ]
    },
    {
     "data": {
      "text/html": [
       "<div>\n",
       "<style scoped>\n",
       "    .dataframe tbody tr th:only-of-type {\n",
       "        vertical-align: middle;\n",
       "    }\n",
       "\n",
       "    .dataframe tbody tr th {\n",
       "        vertical-align: top;\n",
       "    }\n",
       "\n",
       "    .dataframe thead th {\n",
       "        text-align: right;\n",
       "    }\n",
       "</style>\n",
       "<table border=\"1\" class=\"dataframe\">\n",
       "  <thead>\n",
       "    <tr style=\"text-align: right;\">\n",
       "      <th></th>\n",
       "      <th>NOMBRES</th>\n",
       "      <th>APELLIDOS</th>\n",
       "      <th>DIRECCION</th>\n",
       "      <th>DOCUMENTO</th>\n",
       "      <th>CORREO</th>\n",
       "      <th>NOTA 1</th>\n",
       "      <th>NOTA 2</th>\n",
       "      <th>NOTA 3</th>\n",
       "      <th>NOTA 4</th>\n",
       "      <th>NOTA FINAL</th>\n",
       "    </tr>\n",
       "  </thead>\n",
       "  <tbody>\n",
       "    <tr>\n",
       "      <td>0</td>\n",
       "      <td>PEPE</td>\n",
       "      <td>PERES</td>\n",
       "      <td>Carrera 4 # 67-45</td>\n",
       "      <td>12445436</td>\n",
       "      <td>pep@pruba.com</td>\n",
       "      <td>5</td>\n",
       "      <td>5</td>\n",
       "      <td>4</td>\n",
       "      <td>NaN</td>\n",
       "      <td>NaN</td>\n",
       "    </tr>\n",
       "    <tr>\n",
       "      <td>1</td>\n",
       "      <td>MARIA</td>\n",
       "      <td>PEREZ</td>\n",
       "      <td>Carrera 5 # 68-48</td>\n",
       "      <td>12345552</td>\n",
       "      <td>lol@pruba.com</td>\n",
       "      <td>4</td>\n",
       "      <td>1</td>\n",
       "      <td>3</td>\n",
       "      <td>NaN</td>\n",
       "      <td>NaN</td>\n",
       "    </tr>\n",
       "    <tr>\n",
       "      <td>2</td>\n",
       "      <td>LORA</td>\n",
       "      <td>MALDONADO</td>\n",
       "      <td>Carrera 6 # 69-51</td>\n",
       "      <td>12245668</td>\n",
       "      <td>fgdd@pruba.com</td>\n",
       "      <td>5</td>\n",
       "      <td>4</td>\n",
       "      <td>2</td>\n",
       "      <td>NaN</td>\n",
       "      <td>NaN</td>\n",
       "    </tr>\n",
       "    <tr>\n",
       "      <td>3</td>\n",
       "      <td>JAIME</td>\n",
       "      <td>TORO</td>\n",
       "      <td>Carrera 4 # 67-46</td>\n",
       "      <td>12145784</td>\n",
       "      <td>dfees@pruba.com</td>\n",
       "      <td>3</td>\n",
       "      <td>2</td>\n",
       "      <td>3</td>\n",
       "      <td>NaN</td>\n",
       "      <td>NaN</td>\n",
       "    </tr>\n",
       "    <tr>\n",
       "      <td>4</td>\n",
       "      <td>CARLOS</td>\n",
       "      <td>CARRILLO</td>\n",
       "      <td>Carrera 5 # 68-49</td>\n",
       "      <td>12045900</td>\n",
       "      <td>adfggg@pruba.com</td>\n",
       "      <td>5</td>\n",
       "      <td>4</td>\n",
       "      <td>2</td>\n",
       "      <td>NaN</td>\n",
       "      <td>NaN</td>\n",
       "    </tr>\n",
       "  </tbody>\n",
       "</table>\n",
       "</div>"
      ],
      "text/plain": [
       "  NOMBRES  APELLIDOS          DIRECCION  DOCUMENTO            CORREO  NOTA 1  \\\n",
       "0    PEPE      PERES  Carrera 4 # 67-45   12445436     pep@pruba.com       5   \n",
       "1   MARIA      PEREZ  Carrera 5 # 68-48   12345552     lol@pruba.com       4   \n",
       "2    LORA  MALDONADO  Carrera 6 # 69-51   12245668    fgdd@pruba.com       5   \n",
       "3   JAIME       TORO  Carrera 4 # 67-46   12145784   dfees@pruba.com       3   \n",
       "4  CARLOS   CARRILLO  Carrera 5 # 68-49   12045900  adfggg@pruba.com       5   \n",
       "\n",
       "   NOTA 2  NOTA 3  NOTA 4  NOTA FINAL  \n",
       "0       5       4     NaN         NaN  \n",
       "1       1       3     NaN         NaN  \n",
       "2       4       2     NaN         NaN  \n",
       "3       2       3     NaN         NaN  \n",
       "4       4       2     NaN         NaN  "
      ]
     },
     "execution_count": 2,
     "metadata": {},
     "output_type": "execute_result"
    }
   ],
   "source": [
    "# cargar los datos y ver que hay.\n",
    "df = pd.read_csv('BitStudentDataSet - Hoja 1.csv')\n",
    "print('Filas: ', df.shape[0], 'Columnas: ', df.shape[1])\n",
    "df.head()"
   ]
  },
  {
   "cell_type": "code",
   "execution_count": 3,
   "metadata": {},
   "outputs": [
    {
     "data": {
      "text/plain": [
       "NOMBRES        0\n",
       "APELLIDOS      0\n",
       "DIRECCION      0\n",
       "DOCUMENTO      0\n",
       "CORREO         0\n",
       "NOTA 1         0\n",
       "NOTA 2         0\n",
       "NOTA 3         0\n",
       "NOTA 4        20\n",
       "NOTA FINAL    20\n",
       "dtype: int64"
      ]
     },
     "execution_count": 3,
     "metadata": {},
     "output_type": "execute_result"
    }
   ],
   "source": [
    "# Revisar si hay NaN\n",
    "df.isna().sum()"
   ]
  },
  {
   "cell_type": "markdown",
   "metadata": {},
   "source": [
    "Es un dataset que tiene nombres, apellidos, direcion, documento, correo, y diferentes notas. Sin embargo, no hay ningun valor para la nota 4 ni Nota final. Es dificil recuperar esos datos, entonces voy a eliminar ambas columnas"
   ]
  },
  {
   "cell_type": "code",
   "execution_count": 4,
   "metadata": {},
   "outputs": [
    {
     "data": {
      "text/html": [
       "<div>\n",
       "<style scoped>\n",
       "    .dataframe tbody tr th:only-of-type {\n",
       "        vertical-align: middle;\n",
       "    }\n",
       "\n",
       "    .dataframe tbody tr th {\n",
       "        vertical-align: top;\n",
       "    }\n",
       "\n",
       "    .dataframe thead th {\n",
       "        text-align: right;\n",
       "    }\n",
       "</style>\n",
       "<table border=\"1\" class=\"dataframe\">\n",
       "  <thead>\n",
       "    <tr style=\"text-align: right;\">\n",
       "      <th></th>\n",
       "      <th>NOMBRES</th>\n",
       "      <th>APELLIDOS</th>\n",
       "      <th>DIRECCION</th>\n",
       "      <th>DOCUMENTO</th>\n",
       "      <th>CORREO</th>\n",
       "      <th>NOTA 1</th>\n",
       "      <th>NOTA 2</th>\n",
       "      <th>NOTA 3</th>\n",
       "    </tr>\n",
       "  </thead>\n",
       "  <tbody>\n",
       "    <tr>\n",
       "      <td>0</td>\n",
       "      <td>PEPE</td>\n",
       "      <td>PERES</td>\n",
       "      <td>Carrera 4 # 67-45</td>\n",
       "      <td>12445436</td>\n",
       "      <td>pep@pruba.com</td>\n",
       "      <td>5</td>\n",
       "      <td>5</td>\n",
       "      <td>4</td>\n",
       "    </tr>\n",
       "    <tr>\n",
       "      <td>1</td>\n",
       "      <td>MARIA</td>\n",
       "      <td>PEREZ</td>\n",
       "      <td>Carrera 5 # 68-48</td>\n",
       "      <td>12345552</td>\n",
       "      <td>lol@pruba.com</td>\n",
       "      <td>4</td>\n",
       "      <td>1</td>\n",
       "      <td>3</td>\n",
       "    </tr>\n",
       "    <tr>\n",
       "      <td>2</td>\n",
       "      <td>LORA</td>\n",
       "      <td>MALDONADO</td>\n",
       "      <td>Carrera 6 # 69-51</td>\n",
       "      <td>12245668</td>\n",
       "      <td>fgdd@pruba.com</td>\n",
       "      <td>5</td>\n",
       "      <td>4</td>\n",
       "      <td>2</td>\n",
       "    </tr>\n",
       "    <tr>\n",
       "      <td>3</td>\n",
       "      <td>JAIME</td>\n",
       "      <td>TORO</td>\n",
       "      <td>Carrera 4 # 67-46</td>\n",
       "      <td>12145784</td>\n",
       "      <td>dfees@pruba.com</td>\n",
       "      <td>3</td>\n",
       "      <td>2</td>\n",
       "      <td>3</td>\n",
       "    </tr>\n",
       "    <tr>\n",
       "      <td>4</td>\n",
       "      <td>CARLOS</td>\n",
       "      <td>CARRILLO</td>\n",
       "      <td>Carrera 5 # 68-49</td>\n",
       "      <td>12045900</td>\n",
       "      <td>adfggg@pruba.com</td>\n",
       "      <td>5</td>\n",
       "      <td>4</td>\n",
       "      <td>2</td>\n",
       "    </tr>\n",
       "  </tbody>\n",
       "</table>\n",
       "</div>"
      ],
      "text/plain": [
       "  NOMBRES  APELLIDOS          DIRECCION  DOCUMENTO            CORREO  NOTA 1  \\\n",
       "0    PEPE      PERES  Carrera 4 # 67-45   12445436     pep@pruba.com       5   \n",
       "1   MARIA      PEREZ  Carrera 5 # 68-48   12345552     lol@pruba.com       4   \n",
       "2    LORA  MALDONADO  Carrera 6 # 69-51   12245668    fgdd@pruba.com       5   \n",
       "3   JAIME       TORO  Carrera 4 # 67-46   12145784   dfees@pruba.com       3   \n",
       "4  CARLOS   CARRILLO  Carrera 5 # 68-49   12045900  adfggg@pruba.com       5   \n",
       "\n",
       "   NOTA 2  NOTA 3  \n",
       "0       5       4  \n",
       "1       1       3  \n",
       "2       4       2  \n",
       "3       2       3  \n",
       "4       4       2  "
      ]
     },
     "execution_count": 4,
     "metadata": {},
     "output_type": "execute_result"
    }
   ],
   "source": [
    "df.drop(columns = ['NOTA 4', 'NOTA FINAL'], inplace = True)\n",
    "df.head()"
   ]
  },
  {
   "cell_type": "code",
   "execution_count": 5,
   "metadata": {},
   "outputs": [
    {
     "data": {
      "text/plain": [
       "NOMBRES      object\n",
       "APELLIDOS    object\n",
       "DIRECCION    object\n",
       "DOCUMENTO     int64\n",
       "CORREO       object\n",
       "NOTA 1        int64\n",
       "NOTA 2        int64\n",
       "NOTA 3        int64\n",
       "dtype: object"
      ]
     },
     "execution_count": 5,
     "metadata": {},
     "output_type": "execute_result"
    }
   ],
   "source": [
    "# Revisar el tipo de cada variable!\n",
    "df.dtypes\n",
    "# Todas son cadenas de caracteres. Las notas son numericas, claramente. Sin embargo, Python tambien entiende que Documento \n",
    "#es numerica"
   ]
  },
  {
   "cell_type": "markdown",
   "metadata": {},
   "source": [
    "De la base de datos se puede recuperar el Genero de las personas. "
   ]
  },
  {
   "cell_type": "code",
   "execution_count": 6,
   "metadata": {},
   "outputs": [
    {
     "name": "stderr",
     "output_type": "stream",
     "text": [
      "C:\\ProgramData\\Anaconda3\\lib\\site-packages\\ipykernel_launcher.py:3: SettingWithCopyWarning: \n",
      "A value is trying to be set on a copy of a slice from a DataFrame\n",
      "\n",
      "See the caveats in the documentation: http://pandas.pydata.org/pandas-docs/stable/user_guide/indexing.html#returning-a-view-versus-a-copy\n",
      "  This is separate from the ipykernel package so we can avoid doing imports until\n",
      "C:\\ProgramData\\Anaconda3\\lib\\site-packages\\ipykernel_launcher.py:4: SettingWithCopyWarning: \n",
      "A value is trying to be set on a copy of a slice from a DataFrame\n",
      "\n",
      "See the caveats in the documentation: http://pandas.pydata.org/pandas-docs/stable/user_guide/indexing.html#returning-a-view-versus-a-copy\n",
      "  after removing the cwd from sys.path.\n"
     ]
    },
    {
     "data": {
      "text/html": [
       "<div>\n",
       "<style scoped>\n",
       "    .dataframe tbody tr th:only-of-type {\n",
       "        vertical-align: middle;\n",
       "    }\n",
       "\n",
       "    .dataframe tbody tr th {\n",
       "        vertical-align: top;\n",
       "    }\n",
       "\n",
       "    .dataframe thead th {\n",
       "        text-align: right;\n",
       "    }\n",
       "</style>\n",
       "<table border=\"1\" class=\"dataframe\">\n",
       "  <thead>\n",
       "    <tr style=\"text-align: right;\">\n",
       "      <th></th>\n",
       "      <th>NOMBRES</th>\n",
       "      <th>APELLIDOS</th>\n",
       "      <th>DIRECCION</th>\n",
       "      <th>DOCUMENTO</th>\n",
       "      <th>CORREO</th>\n",
       "      <th>NOTA 1</th>\n",
       "      <th>NOTA 2</th>\n",
       "      <th>NOTA 3</th>\n",
       "      <th>GENERO</th>\n",
       "    </tr>\n",
       "  </thead>\n",
       "  <tbody>\n",
       "    <tr>\n",
       "      <td>0</td>\n",
       "      <td>PEPE</td>\n",
       "      <td>PERES</td>\n",
       "      <td>Carrera 4 # 67-45</td>\n",
       "      <td>12445436</td>\n",
       "      <td>pep@pruba.com</td>\n",
       "      <td>5</td>\n",
       "      <td>5</td>\n",
       "      <td>4</td>\n",
       "      <td>0</td>\n",
       "    </tr>\n",
       "    <tr>\n",
       "      <td>1</td>\n",
       "      <td>MARIA</td>\n",
       "      <td>PEREZ</td>\n",
       "      <td>Carrera 5 # 68-48</td>\n",
       "      <td>12345552</td>\n",
       "      <td>lol@pruba.com</td>\n",
       "      <td>4</td>\n",
       "      <td>1</td>\n",
       "      <td>3</td>\n",
       "      <td>1</td>\n",
       "    </tr>\n",
       "    <tr>\n",
       "      <td>2</td>\n",
       "      <td>LORA</td>\n",
       "      <td>MALDONADO</td>\n",
       "      <td>Carrera 6 # 69-51</td>\n",
       "      <td>12245668</td>\n",
       "      <td>fgdd@pruba.com</td>\n",
       "      <td>5</td>\n",
       "      <td>4</td>\n",
       "      <td>2</td>\n",
       "      <td>1</td>\n",
       "    </tr>\n",
       "    <tr>\n",
       "      <td>3</td>\n",
       "      <td>JAIME</td>\n",
       "      <td>TORO</td>\n",
       "      <td>Carrera 4 # 67-46</td>\n",
       "      <td>12145784</td>\n",
       "      <td>dfees@pruba.com</td>\n",
       "      <td>3</td>\n",
       "      <td>2</td>\n",
       "      <td>3</td>\n",
       "      <td>0</td>\n",
       "    </tr>\n",
       "    <tr>\n",
       "      <td>4</td>\n",
       "      <td>CARLOS</td>\n",
       "      <td>CARRILLO</td>\n",
       "      <td>Carrera 5 # 68-49</td>\n",
       "      <td>12045900</td>\n",
       "      <td>adfggg@pruba.com</td>\n",
       "      <td>5</td>\n",
       "      <td>4</td>\n",
       "      <td>2</td>\n",
       "      <td>0</td>\n",
       "    </tr>\n",
       "  </tbody>\n",
       "</table>\n",
       "</div>"
      ],
      "text/plain": [
       "  NOMBRES  APELLIDOS          DIRECCION  DOCUMENTO            CORREO  NOTA 1  \\\n",
       "0    PEPE      PERES  Carrera 4 # 67-45   12445436     pep@pruba.com       5   \n",
       "1   MARIA      PEREZ  Carrera 5 # 68-48   12345552     lol@pruba.com       4   \n",
       "2    LORA  MALDONADO  Carrera 6 # 69-51   12245668    fgdd@pruba.com       5   \n",
       "3   JAIME       TORO  Carrera 4 # 67-46   12145784   dfees@pruba.com       3   \n",
       "4  CARLOS   CARRILLO  Carrera 5 # 68-49   12045900  adfggg@pruba.com       5   \n",
       "\n",
       "   NOTA 2  NOTA 3  GENERO  \n",
       "0       5       4       0  \n",
       "1       1       3       1  \n",
       "2       4       2       1  \n",
       "3       2       3       0  \n",
       "4       4       2       0  "
      ]
     },
     "execution_count": 6,
     "metadata": {},
     "output_type": "execute_result"
    }
   ],
   "source": [
    "#Crear una variable de genero\n",
    "df['GENERO'] = 0\n",
    "df['GENERO'][df['NOMBRES'].str.strip().str[-1] == 'A'] = 1\n",
    "df['GENERO'][df['NOMBRES'].str.strip().str[-1] == 'Y'] = 1\n",
    "df.head()\n",
    "\n",
    "#IMPORTANTE TENER EN CUENTA QUE 1 es mujer, 0 es hombre."
   ]
  },
  {
   "cell_type": "markdown",
   "metadata": {},
   "source": [
    "Hay cierta informacion que no se usara en los modelos. Entre estas estan los nombres, apellidos, direccion y Documento"
   ]
  },
  {
   "cell_type": "code",
   "execution_count": 7,
   "metadata": {},
   "outputs": [],
   "source": [
    "df_datos = df.iloc[:, 5:].copy()"
   ]
  },
  {
   "cell_type": "markdown",
   "metadata": {},
   "source": [
    "# IMPORTANTE: SON MUY POCOS DATOS, ASI QUE SE VAN A SIMULAR DATOS DE GENERO Y DE NOTAS EN EL DATASET"
   ]
  },
  {
   "cell_type": "code",
   "execution_count": 8,
   "metadata": {},
   "outputs": [],
   "source": [
    "#Se van a simular datos con distribucion normal, ya que normalmente las notas tienden a tener esa distribucion. Se simulan solo\n",
    "# 1000 para que los algoritmos no demoren tanto entrenanod pero para tener los datos suficientes.\n",
    "# Se utiliza una desviacion estandar de 0.63 ya que en una distribucion normal es raro que los datos se alejen mas de 3 o 4 \n",
    "# desviaciones estandar de la media (2.5). Con esto se logra que todas las notas esten entre 0 y 5. Se pasa a entero\n",
    "np.random.seed(1)\n",
    "notas1 = np.random.normal(df_datos['NOTA 1'].mean(), 0.64, 1000).astype(int)\n",
    "np.random.seed(2)\n",
    "notas2 = np.random.normal(df_datos['NOTA 2'].mean(), 0.64, 1000).astype(int)\n",
    "np.random.seed(3)\n",
    "notas3 = np.random.normal(df_datos['NOTA 3'].mean(), 0.64, 1000).astype(int)"
   ]
  },
  {
   "cell_type": "code",
   "execution_count": 9,
   "metadata": {},
   "outputs": [],
   "source": [
    "# Tengo que crear datos tambien de genero. Lo hago con distribucion uniforme.\n",
    "np.random.seed(4)\n",
    "genero = np.random.randint(0,2, 1000)"
   ]
  },
  {
   "cell_type": "code",
   "execution_count": 10,
   "metadata": {},
   "outputs": [],
   "source": [
    "#Creo un dataFrame para unirlo\n",
    "df_simulado = pd.DataFrame( {'NOTA 1': notas1, 'NOTA 2': notas2, 'NOTA 3': notas3, 'GENERO': genero} )"
   ]
  },
  {
   "cell_type": "code",
   "execution_count": 11,
   "metadata": {},
   "outputs": [],
   "source": [
    "df_global = df_datos.append(df_simulado)"
   ]
  },
  {
   "cell_type": "markdown",
   "metadata": {},
   "source": [
    "# ESTADISTICAS DESCRIPTIVAS"
   ]
  },
  {
   "cell_type": "code",
   "execution_count": 12,
   "metadata": {},
   "outputs": [
    {
     "data": {
      "text/html": [
       "<div>\n",
       "<style scoped>\n",
       "    .dataframe tbody tr th:only-of-type {\n",
       "        vertical-align: middle;\n",
       "    }\n",
       "\n",
       "    .dataframe tbody tr th {\n",
       "        vertical-align: top;\n",
       "    }\n",
       "\n",
       "    .dataframe thead th {\n",
       "        text-align: right;\n",
       "    }\n",
       "</style>\n",
       "<table border=\"1\" class=\"dataframe\">\n",
       "  <thead>\n",
       "    <tr style=\"text-align: right;\">\n",
       "      <th></th>\n",
       "      <th>NOTA 1</th>\n",
       "      <th>NOTA 2</th>\n",
       "      <th>NOTA 3</th>\n",
       "      <th>GENERO</th>\n",
       "    </tr>\n",
       "  </thead>\n",
       "  <tbody>\n",
       "    <tr>\n",
       "      <td>count</td>\n",
       "      <td>1020.000000</td>\n",
       "      <td>1020.000000</td>\n",
       "      <td>1020.000000</td>\n",
       "      <td>1020.000000</td>\n",
       "    </tr>\n",
       "    <tr>\n",
       "      <td>mean</td>\n",
       "      <td>3.481373</td>\n",
       "      <td>2.566667</td>\n",
       "      <td>2.582353</td>\n",
       "      <td>0.509804</td>\n",
       "    </tr>\n",
       "    <tr>\n",
       "      <td>std</td>\n",
       "      <td>0.718906</td>\n",
       "      <td>0.734985</td>\n",
       "      <td>0.722607</td>\n",
       "      <td>0.500149</td>\n",
       "    </tr>\n",
       "    <tr>\n",
       "      <td>min</td>\n",
       "      <td>1.000000</td>\n",
       "      <td>1.000000</td>\n",
       "      <td>1.000000</td>\n",
       "      <td>0.000000</td>\n",
       "    </tr>\n",
       "    <tr>\n",
       "      <td>25%</td>\n",
       "      <td>3.000000</td>\n",
       "      <td>2.000000</td>\n",
       "      <td>2.000000</td>\n",
       "      <td>0.000000</td>\n",
       "    </tr>\n",
       "    <tr>\n",
       "      <td>50%</td>\n",
       "      <td>3.000000</td>\n",
       "      <td>3.000000</td>\n",
       "      <td>3.000000</td>\n",
       "      <td>1.000000</td>\n",
       "    </tr>\n",
       "    <tr>\n",
       "      <td>75%</td>\n",
       "      <td>4.000000</td>\n",
       "      <td>3.000000</td>\n",
       "      <td>3.000000</td>\n",
       "      <td>1.000000</td>\n",
       "    </tr>\n",
       "    <tr>\n",
       "      <td>max</td>\n",
       "      <td>6.000000</td>\n",
       "      <td>5.000000</td>\n",
       "      <td>5.000000</td>\n",
       "      <td>1.000000</td>\n",
       "    </tr>\n",
       "  </tbody>\n",
       "</table>\n",
       "</div>"
      ],
      "text/plain": [
       "            NOTA 1       NOTA 2       NOTA 3       GENERO\n",
       "count  1020.000000  1020.000000  1020.000000  1020.000000\n",
       "mean      3.481373     2.566667     2.582353     0.509804\n",
       "std       0.718906     0.734985     0.722607     0.500149\n",
       "min       1.000000     1.000000     1.000000     0.000000\n",
       "25%       3.000000     2.000000     2.000000     0.000000\n",
       "50%       3.000000     3.000000     3.000000     1.000000\n",
       "75%       4.000000     3.000000     3.000000     1.000000\n",
       "max       6.000000     5.000000     5.000000     1.000000"
      ]
     },
     "execution_count": 12,
     "metadata": {},
     "output_type": "execute_result"
    }
   ],
   "source": [
    "df_global.describe()"
   ]
  },
  {
   "cell_type": "markdown",
   "metadata": {},
   "source": [
    "Se asume que la maxima nota es 5. Quiere decir que hay outliers. "
   ]
  },
  {
   "cell_type": "code",
   "execution_count": 13,
   "metadata": {},
   "outputs": [
    {
     "data": {
      "text/plain": [
       "(1016, 4)"
      ]
     },
     "execution_count": 13,
     "metadata": {},
     "output_type": "execute_result"
    }
   ],
   "source": [
    "# REMUEVO SOLAMENTE LOS QUE SEAN MAYOR A 5 en NOTA 1\n",
    "df_global = df_global[df_global['NOTA 1'] <= 5]\n",
    "df_global.shape"
   ]
  },
  {
   "cell_type": "code",
   "execution_count": 14,
   "metadata": {},
   "outputs": [
    {
     "data": {
      "text/html": [
       "<div>\n",
       "<style scoped>\n",
       "    .dataframe tbody tr th:only-of-type {\n",
       "        vertical-align: middle;\n",
       "    }\n",
       "\n",
       "    .dataframe tbody tr th {\n",
       "        vertical-align: top;\n",
       "    }\n",
       "\n",
       "    .dataframe thead th {\n",
       "        text-align: right;\n",
       "    }\n",
       "</style>\n",
       "<table border=\"1\" class=\"dataframe\">\n",
       "  <thead>\n",
       "    <tr style=\"text-align: right;\">\n",
       "      <th></th>\n",
       "      <th>NOTA 1</th>\n",
       "      <th>NOTA 2</th>\n",
       "      <th>NOTA 3</th>\n",
       "      <th>GENERO</th>\n",
       "    </tr>\n",
       "  </thead>\n",
       "  <tbody>\n",
       "    <tr>\n",
       "      <td>count</td>\n",
       "      <td>1016.000000</td>\n",
       "      <td>1016.000000</td>\n",
       "      <td>1016.000000</td>\n",
       "      <td>1016.000000</td>\n",
       "    </tr>\n",
       "    <tr>\n",
       "      <td>mean</td>\n",
       "      <td>3.471457</td>\n",
       "      <td>2.566929</td>\n",
       "      <td>2.582677</td>\n",
       "      <td>0.510827</td>\n",
       "    </tr>\n",
       "    <tr>\n",
       "      <td>std</td>\n",
       "      <td>0.702685</td>\n",
       "      <td>0.733068</td>\n",
       "      <td>0.723331</td>\n",
       "      <td>0.500129</td>\n",
       "    </tr>\n",
       "    <tr>\n",
       "      <td>min</td>\n",
       "      <td>1.000000</td>\n",
       "      <td>1.000000</td>\n",
       "      <td>1.000000</td>\n",
       "      <td>0.000000</td>\n",
       "    </tr>\n",
       "    <tr>\n",
       "      <td>25%</td>\n",
       "      <td>3.000000</td>\n",
       "      <td>2.000000</td>\n",
       "      <td>2.000000</td>\n",
       "      <td>0.000000</td>\n",
       "    </tr>\n",
       "    <tr>\n",
       "      <td>50%</td>\n",
       "      <td>3.000000</td>\n",
       "      <td>3.000000</td>\n",
       "      <td>3.000000</td>\n",
       "      <td>1.000000</td>\n",
       "    </tr>\n",
       "    <tr>\n",
       "      <td>75%</td>\n",
       "      <td>4.000000</td>\n",
       "      <td>3.000000</td>\n",
       "      <td>3.000000</td>\n",
       "      <td>1.000000</td>\n",
       "    </tr>\n",
       "    <tr>\n",
       "      <td>max</td>\n",
       "      <td>5.000000</td>\n",
       "      <td>5.000000</td>\n",
       "      <td>5.000000</td>\n",
       "      <td>1.000000</td>\n",
       "    </tr>\n",
       "  </tbody>\n",
       "</table>\n",
       "</div>"
      ],
      "text/plain": [
       "            NOTA 1       NOTA 2       NOTA 3       GENERO\n",
       "count  1016.000000  1016.000000  1016.000000  1016.000000\n",
       "mean      3.471457     2.566929     2.582677     0.510827\n",
       "std       0.702685     0.733068     0.723331     0.500129\n",
       "min       1.000000     1.000000     1.000000     0.000000\n",
       "25%       3.000000     2.000000     2.000000     0.000000\n",
       "50%       3.000000     3.000000     3.000000     1.000000\n",
       "75%       4.000000     3.000000     3.000000     1.000000\n",
       "max       5.000000     5.000000     5.000000     1.000000"
      ]
     },
     "execution_count": 14,
     "metadata": {},
     "output_type": "execute_result"
    }
   ],
   "source": [
    "df_global.describe()"
   ]
  },
  {
   "cell_type": "code",
   "execution_count": 15,
   "metadata": {},
   "outputs": [
    {
     "data": {
      "text/plain": [
       "NOTA 1    int64\n",
       "NOTA 2    int64\n",
       "NOTA 3    int64\n",
       "GENERO    int64\n",
       "dtype: object"
      ]
     },
     "execution_count": 15,
     "metadata": {},
     "output_type": "execute_result"
    }
   ],
   "source": [
    "df_global.dtypes"
   ]
  },
  {
   "cell_type": "markdown",
   "metadata": {},
   "source": [
    "# REGRESION LINEAL"
   ]
  },
  {
   "cell_type": "code",
   "execution_count": 16,
   "metadata": {},
   "outputs": [
    {
     "data": {
      "text/html": [
       "<div>\n",
       "<style scoped>\n",
       "    .dataframe tbody tr th:only-of-type {\n",
       "        vertical-align: middle;\n",
       "    }\n",
       "\n",
       "    .dataframe tbody tr th {\n",
       "        vertical-align: top;\n",
       "    }\n",
       "\n",
       "    .dataframe thead th {\n",
       "        text-align: right;\n",
       "    }\n",
       "</style>\n",
       "<table border=\"1\" class=\"dataframe\">\n",
       "  <thead>\n",
       "    <tr style=\"text-align: right;\">\n",
       "      <th></th>\n",
       "      <th>NOTA 1</th>\n",
       "      <th>NOTA 2</th>\n",
       "      <th>NOTA 3</th>\n",
       "      <th>GENERO</th>\n",
       "    </tr>\n",
       "  </thead>\n",
       "  <tbody>\n",
       "    <tr>\n",
       "      <td>NOTA 1</td>\n",
       "      <td>1.000000</td>\n",
       "      <td>-0.016370</td>\n",
       "      <td>-0.062226</td>\n",
       "      <td>-0.001923</td>\n",
       "    </tr>\n",
       "    <tr>\n",
       "      <td>NOTA 2</td>\n",
       "      <td>-0.016370</td>\n",
       "      <td>1.000000</td>\n",
       "      <td>-0.003014</td>\n",
       "      <td>0.047736</td>\n",
       "    </tr>\n",
       "    <tr>\n",
       "      <td>NOTA 3</td>\n",
       "      <td>-0.062226</td>\n",
       "      <td>-0.003014</td>\n",
       "      <td>1.000000</td>\n",
       "      <td>-0.012009</td>\n",
       "    </tr>\n",
       "    <tr>\n",
       "      <td>GENERO</td>\n",
       "      <td>-0.001923</td>\n",
       "      <td>0.047736</td>\n",
       "      <td>-0.012009</td>\n",
       "      <td>1.000000</td>\n",
       "    </tr>\n",
       "  </tbody>\n",
       "</table>\n",
       "</div>"
      ],
      "text/plain": [
       "          NOTA 1    NOTA 2    NOTA 3    GENERO\n",
       "NOTA 1  1.000000 -0.016370 -0.062226 -0.001923\n",
       "NOTA 2 -0.016370  1.000000 -0.003014  0.047736\n",
       "NOTA 3 -0.062226 -0.003014  1.000000 -0.012009\n",
       "GENERO -0.001923  0.047736 -0.012009  1.000000"
      ]
     },
     "execution_count": 16,
     "metadata": {},
     "output_type": "execute_result"
    }
   ],
   "source": [
    "# Encuentro correlaciones\n",
    "df_global.corr()"
   ]
  },
  {
   "cell_type": "markdown",
   "metadata": {},
   "source": [
    "Era de esperarse que tengan correlaciones bajas porque fueron variables simuladas de forma iid (independientes e identicamente distribuidas). Para mostrar \"conocimientos de regresion lineal\":\n",
    "- Se va a tomar la nota 3 como variable Y\n",
    "- El genero sera la variable que controle\n",
    "- hipotesis. El desempeño mejora en el tiempo, porque los estudiantes se esfuerzan cada vez mas "
   ]
  },
  {
   "cell_type": "code",
   "execution_count": 17,
   "metadata": {},
   "outputs": [
    {
     "data": {
      "text/plain": [
       "<seaborn.axisgrid.PairGrid at 0x2e05a7e2d48>"
      ]
     },
     "execution_count": 17,
     "metadata": {},
     "output_type": "execute_result"
    },
    {
     "data": {
      "image/png": "[encoded data removed]",
      "text/plain": [
       "<Figure size 720x720 with 20 Axes>"
      ]
     },
     "metadata": {
      "needs_background": "light"
     },
     "output_type": "display_data"
    }
   ],
   "source": [
    "# Graficas\n",
    "sns.pairplot(df_global)"
   ]
  },
  {
   "cell_type": "code",
   "execution_count": 18,
   "metadata": {},
   "outputs": [],
   "source": [
    "#Separo las variables\n",
    "X = df_global[['NOTA 1', 'NOTA 2', 'GENERO']]\n",
    "y = df_global['NOTA 3']\n",
    "X_train, X_test, y_train, y_test = train_test_split(X, y, test_size = 0.2, random_state = 999)\n",
    "\n"
   ]
  },
  {
   "cell_type": "code",
   "execution_count": 19,
   "metadata": {},
   "outputs": [
    {
     "name": "stdout",
     "output_type": "stream",
     "text": [
      "Modelo Lineal\n",
      "Nota 3 = 2.7084 + Nota1*-0.0375 + Nota2*-0.0043 + Genero*0.0233\n"
     ]
    }
   ],
   "source": [
    "#creo y entreno el modelo\n",
    "modelo = LinearRegression( )\n",
    "modelo.fit(X_train,y_train)\n",
    "print ('Modelo Lineal')\n",
    "print('Nota 3 = ' + str(round(modelo.intercept_, 4)) +' + Nota1*' + str(round(modelo.coef_[0], 4)) + ' + Nota2*' + str(round(modelo.coef_[1], 4)) + ' + Genero*' + str(round(modelo.coef_[2], 4)) )"
   ]
  },
  {
   "cell_type": "code",
   "execution_count": 20,
   "metadata": {},
   "outputs": [
    {
     "name": "stdout",
     "output_type": "stream",
     "text": [
      "El Error cuadratico medio es: 0.5511\n",
      "El Error absoluto medio es: 0.6509\n",
      "R cuadrado 0.00541\n",
      "Promedio de las notas 3 2.5826771653543306\n",
      "Desviacion de las notas 3 0.7233305004743635\n"
     ]
    }
   ],
   "source": [
    "#Se hacen las predicciones y se calculan los errores\n",
    "y_pred = modelo.predict(X_test)\n",
    "mse_lineal = metrics.mean_squared_error(y_test, y_pred)\n",
    "mae_lineal = metrics.mean_absolute_error(y_test, y_pred)\n",
    "r_cuadrado = metrics.r2_score(y_test, y_pred)\n",
    "print('El Error cuadratico medio es:', round(mse_lineal, 4))\n",
    "print('El Error absoluto medio es:', round(mae_lineal, 4))\n",
    "print('R cuadrado', round(r_cuadrado, 5) )\n",
    "print('Promedio de las notas 3', df_global['NOTA 3'].mean())\n",
    "print('Desviacion de las notas 3', df_global['NOTA 3'].std())"
   ]
  },
  {
   "cell_type": "markdown",
   "metadata": {},
   "source": [
    "Basado en los coeficientes, dado que estan muy cercanos a 0, se quiere ver si son significativos"
   ]
  },
  {
   "cell_type": "code",
   "execution_count": 21,
   "metadata": {},
   "outputs": [
    {
     "name": "stdout",
     "output_type": "stream",
     "text": [
      "                            OLS Regression Results                            \n",
      "==============================================================================\n",
      "Dep. Variable:                 NOTA 3   R-squared:                       0.002\n",
      "Model:                            OLS   Adj. R-squared:                 -0.002\n",
      "Method:                 Least Squares   F-statistic:                    0.4406\n",
      "Date:                Sun, 05 Jul 2020   Prob (F-statistic):              0.724\n",
      "Time:                        20:00:28   Log-Likelihood:                -881.88\n",
      "No. Observations:                 812   AIC:                             1772.\n",
      "Df Residuals:                     808   BIC:                             1791.\n",
      "Df Model:                           3                                         \n",
      "Covariance Type:            nonrobust                                         \n",
      "==============================================================================\n",
      "                 coef    std err          t      P>|t|      [0.025      0.975]\n",
      "------------------------------------------------------------------------------\n",
      "NOTA 1        -0.0375      0.036     -1.038      0.300      -0.108       0.033\n",
      "NOTA 2        -0.0043      0.034     -0.127      0.899      -0.071       0.062\n",
      "GENERO         0.0233      0.051      0.461      0.645      -0.076       0.123\n",
      "intercepto     2.7084      0.158     17.106      0.000       2.398       3.019\n",
      "==============================================================================\n",
      "Omnibus:                        1.082   Durbin-Watson:                   1.869\n",
      "Prob(Omnibus):                  0.582   Jarque-Bera (JB):                0.938\n",
      "Skew:                           0.035   Prob(JB):                        0.626\n",
      "Kurtosis:                       3.151   Cond. No.                         29.1\n",
      "==============================================================================\n",
      "\n",
      "Warnings:\n",
      "[1] Standard Errors assume that the covariance matrix of the errors is correctly specified.\n"
     ]
    }
   ],
   "source": [
    "X_train_ = X_train.copy()\n",
    "X_train_['intercepto'] = 1\n",
    "linear_mod =sm.regression.linear_model.OLS(y_train,X_train_)\n",
    "result=linear_mod.fit()\n",
    "print(result.summary())\n"
   ]
  },
  {
   "cell_type": "markdown",
   "metadata": {},
   "source": [
    "Se podria llegar a pensar erroneamente el impacto que tiene nota 1, 2 y genero sobre nota 3. Sin embargo, se que en los p valores que ningun parametro estimado es significativo (solo la constante). La prueba de siginifancia F tampoco rechaza la hipotesis nula -> quiere decir que los coeficientes son 0\n",
    "El modelo no nos ayuda a explicar la nota 3. Este hallazgo no es raro porque se simularon datos iid "
   ]
  },
  {
   "cell_type": "markdown",
   "metadata": {},
   "source": [
    "# REGRESION LOGISTICA"
   ]
  },
  {
   "cell_type": "code",
   "execution_count": 22,
   "metadata": {},
   "outputs": [],
   "source": [
    "# Aqui lo que se va querer hacer es predecir el genero.\n",
    "X, y = df_global.iloc[:,0:3], df_global.iloc[:, 3]"
   ]
  },
  {
   "cell_type": "code",
   "execution_count": 23,
   "metadata": {},
   "outputs": [],
   "source": [
    "#Separar los datos.\n",
    "X_train, X_test, y_train, y_test = train_test_split(X,y, random_state = 999)"
   ]
  },
  {
   "cell_type": "code",
   "execution_count": null,
   "metadata": {},
   "outputs": [],
   "source": [
    "# modelo\n",
    "log_model = LogisticRegression(random_state = 999, solver = 'saga', max_iter = 1000, verbose = 2, n_jobs = -1)\n",
    "parametros = {'penalty': ['l1', 'l2', 'elasticnet', 'none'],'C': np.arange(0,2,0.1)}\n",
    "cv = KFold(n_splits = 5)\n",
    "modelo = GridSearchCV(log_model, parametros, cv = cv, refit = True)\n",
    "modelo.fit(X_train, y_train)\n",
    "modelo.best_params_"
   ]
  },
  {
   "cell_type": "code",
   "execution_count": 25,
   "metadata": {},
   "outputs": [
    {
     "data": {
      "text/plain": [
       "<sklearn.metrics._plot.roc_curve.RocCurveDisplay at 0x2e05cdba788>"
      ]
     },
     "execution_count": 25,
     "metadata": {},
     "output_type": "execute_result"
    },
    {
     "data": {
      "image/png": "[encoded data removed]",
      "text/plain": [
       "<Figure size 432x288 with 1 Axes>"
      ]
     },
     "metadata": {
      "needs_background": "light"
     },
     "output_type": "display_data"
    }
   ],
   "source": [
    "#Probabilidades\n",
    "pred_prob = modelo.predict_proba(X_test)[:, 1]\n",
    "\n",
    "# Graficar\n",
    "re_ = plot_roc_curve(modelo, X_test, y_test)\n",
    "re_"
   ]
  },
  {
   "cell_type": "markdown",
   "metadata": {},
   "source": [
    "Como era de esperarse, por la similacion de los datos. La curva ROC muestra que el modelo tiene un muy mal desempeño para los datos de testeo\n",
    "No es de la forma como se seleccionaron los parametros, si no de los datos en sí"
   ]
  },
  {
   "cell_type": "markdown",
   "metadata": {},
   "source": [
    "# K NN\n",
    "- Para esta situacion, es necesario normalizar los datos. Debido a que el algoritmo es sensible a la magnitud de los datos cuando calcula las distancias"
   ]
  },
  {
   "cell_type": "code",
   "execution_count": 26,
   "metadata": {},
   "outputs": [],
   "source": [
    "X_train, X_test, y_train, y_test = train_test_split(X, y, random_state = 999)"
   ]
  },
  {
   "cell_type": "code",
   "execution_count": 27,
   "metadata": {},
   "outputs": [
    {
     "name": "stdout",
     "output_type": "stream",
     "text": [
      "   NOTA 1  NOTA 2  NOTA 3\n",
      "0    0.75    0.25    0.50\n",
      "1    0.75    0.50    0.25\n",
      "2    0.50    0.25    0.50\n",
      "3    0.25    0.50    0.50\n",
      "4    0.50    0.75    0.50\n"
     ]
    },
    {
     "data": {
      "text/html": [
       "<div>\n",
       "<style scoped>\n",
       "    .dataframe tbody tr th:only-of-type {\n",
       "        vertical-align: middle;\n",
       "    }\n",
       "\n",
       "    .dataframe tbody tr th {\n",
       "        vertical-align: top;\n",
       "    }\n",
       "\n",
       "    .dataframe thead th {\n",
       "        text-align: right;\n",
       "    }\n",
       "</style>\n",
       "<table border=\"1\" class=\"dataframe\">\n",
       "  <thead>\n",
       "    <tr style=\"text-align: right;\">\n",
       "      <th></th>\n",
       "      <th>NOTA 1</th>\n",
       "      <th>NOTA 2</th>\n",
       "      <th>NOTA 3</th>\n",
       "    </tr>\n",
       "  </thead>\n",
       "  <tbody>\n",
       "    <tr>\n",
       "      <td>count</td>\n",
       "      <td>762.000000</td>\n",
       "      <td>762.000000</td>\n",
       "      <td>762.000000</td>\n",
       "    </tr>\n",
       "    <tr>\n",
       "      <td>mean</td>\n",
       "      <td>0.619423</td>\n",
       "      <td>0.394029</td>\n",
       "      <td>0.393373</td>\n",
       "    </tr>\n",
       "    <tr>\n",
       "      <td>std</td>\n",
       "      <td>0.173877</td>\n",
       "      <td>0.184858</td>\n",
       "      <td>0.179058</td>\n",
       "    </tr>\n",
       "    <tr>\n",
       "      <td>min</td>\n",
       "      <td>0.000000</td>\n",
       "      <td>0.000000</td>\n",
       "      <td>0.000000</td>\n",
       "    </tr>\n",
       "    <tr>\n",
       "      <td>25%</td>\n",
       "      <td>0.500000</td>\n",
       "      <td>0.250000</td>\n",
       "      <td>0.250000</td>\n",
       "    </tr>\n",
       "    <tr>\n",
       "      <td>50%</td>\n",
       "      <td>0.500000</td>\n",
       "      <td>0.500000</td>\n",
       "      <td>0.500000</td>\n",
       "    </tr>\n",
       "    <tr>\n",
       "      <td>75%</td>\n",
       "      <td>0.750000</td>\n",
       "      <td>0.500000</td>\n",
       "      <td>0.500000</td>\n",
       "    </tr>\n",
       "    <tr>\n",
       "      <td>max</td>\n",
       "      <td>1.000000</td>\n",
       "      <td>1.000000</td>\n",
       "      <td>1.000000</td>\n",
       "    </tr>\n",
       "  </tbody>\n",
       "</table>\n",
       "</div>"
      ],
      "text/plain": [
       "           NOTA 1      NOTA 2      NOTA 3\n",
       "count  762.000000  762.000000  762.000000\n",
       "mean     0.619423    0.394029    0.393373\n",
       "std      0.173877    0.184858    0.179058\n",
       "min      0.000000    0.000000    0.000000\n",
       "25%      0.500000    0.250000    0.250000\n",
       "50%      0.500000    0.500000    0.500000\n",
       "75%      0.750000    0.500000    0.500000\n",
       "max      1.000000    1.000000    1.000000"
      ]
     },
     "execution_count": 27,
     "metadata": {},
     "output_type": "execute_result"
    }
   ],
   "source": [
    "escalados = X_train.values\n",
    "scaler_train = MinMaxScaler()\n",
    "scaler_train.fit(escalados)\n",
    "X_escalados_train = pd.DataFrame(scaler_train.transform(escalados), columns = X.columns)\n",
    "print(X_escalados_train.head())\n",
    "X_escalados_train.describe()"
   ]
  },
  {
   "cell_type": "code",
   "execution_count": 28,
   "metadata": {},
   "outputs": [
    {
     "name": "stdout",
     "output_type": "stream",
     "text": [
      "     NOTA 1  NOTA 2  NOTA 3\n",
      "0  0.666667    0.00    0.25\n",
      "1  0.333333    0.50    0.50\n",
      "2  0.000000    0.50    0.25\n",
      "3  0.666667    0.25    0.50\n",
      "4  0.666667    0.50    0.25\n"
     ]
    },
    {
     "data": {
      "text/html": [
       "<div>\n",
       "<style scoped>\n",
       "    .dataframe tbody tr th:only-of-type {\n",
       "        vertical-align: middle;\n",
       "    }\n",
       "\n",
       "    .dataframe tbody tr th {\n",
       "        vertical-align: top;\n",
       "    }\n",
       "\n",
       "    .dataframe thead th {\n",
       "        text-align: right;\n",
       "    }\n",
       "</style>\n",
       "<table border=\"1\" class=\"dataframe\">\n",
       "  <thead>\n",
       "    <tr style=\"text-align: right;\">\n",
       "      <th></th>\n",
       "      <th>NOTA 1</th>\n",
       "      <th>NOTA 2</th>\n",
       "      <th>NOTA 3</th>\n",
       "    </tr>\n",
       "  </thead>\n",
       "  <tbody>\n",
       "    <tr>\n",
       "      <td>count</td>\n",
       "      <td>254.000000</td>\n",
       "      <td>254.000000</td>\n",
       "      <td>254.000000</td>\n",
       "    </tr>\n",
       "    <tr>\n",
       "      <td>mean</td>\n",
       "      <td>0.484252</td>\n",
       "      <td>0.384843</td>\n",
       "      <td>0.402559</td>\n",
       "    </tr>\n",
       "    <tr>\n",
       "      <td>std</td>\n",
       "      <td>0.241621</td>\n",
       "      <td>0.178588</td>\n",
       "      <td>0.186245</td>\n",
       "    </tr>\n",
       "    <tr>\n",
       "      <td>min</td>\n",
       "      <td>0.000000</td>\n",
       "      <td>0.000000</td>\n",
       "      <td>0.000000</td>\n",
       "    </tr>\n",
       "    <tr>\n",
       "      <td>25%</td>\n",
       "      <td>0.333333</td>\n",
       "      <td>0.250000</td>\n",
       "      <td>0.250000</td>\n",
       "    </tr>\n",
       "    <tr>\n",
       "      <td>50%</td>\n",
       "      <td>0.333333</td>\n",
       "      <td>0.500000</td>\n",
       "      <td>0.500000</td>\n",
       "    </tr>\n",
       "    <tr>\n",
       "      <td>75%</td>\n",
       "      <td>0.666667</td>\n",
       "      <td>0.500000</td>\n",
       "      <td>0.500000</td>\n",
       "    </tr>\n",
       "    <tr>\n",
       "      <td>max</td>\n",
       "      <td>1.000000</td>\n",
       "      <td>1.000000</td>\n",
       "      <td>1.000000</td>\n",
       "    </tr>\n",
       "  </tbody>\n",
       "</table>\n",
       "</div>"
      ],
      "text/plain": [
       "           NOTA 1      NOTA 2      NOTA 3\n",
       "count  254.000000  254.000000  254.000000\n",
       "mean     0.484252    0.384843    0.402559\n",
       "std      0.241621    0.178588    0.186245\n",
       "min      0.000000    0.000000    0.000000\n",
       "25%      0.333333    0.250000    0.250000\n",
       "50%      0.333333    0.500000    0.500000\n",
       "75%      0.666667    0.500000    0.500000\n",
       "max      1.000000    1.000000    1.000000"
      ]
     },
     "execution_count": 28,
     "metadata": {},
     "output_type": "execute_result"
    }
   ],
   "source": [
    "escalados = X_test.values\n",
    "scaler_test = MinMaxScaler()\n",
    "scaler_test.fit(escalados)\n",
    "X_escalados_test = pd.DataFrame(scaler_test.transform(escalados), columns = X.columns)\n",
    "print(X_escalados_test.head())\n",
    "X_escalados_test.describe()"
   ]
  },
  {
   "cell_type": "code",
   "execution_count": 29,
   "metadata": {},
   "outputs": [
    {
     "name": "stdout",
     "output_type": "stream",
     "text": [
      "Menor error de test 0.44488\n",
      "Numero de vecinos mas cercanos optimo 483\n"
     ]
    }
   ],
   "source": [
    "# YA SE TIENEN LOS DATOS ESCALADOS. AHORA entrenar el modelo\n",
    "# Crear un loop (for) para validar el resultado en accuracy para distintos k. Guardar los resultados en entrenamiento y prueba\n",
    "train_scores = []\n",
    "test_scores = []\n",
    "\n",
    "vecinos=np.arange(1, 500, 2)\n",
    "\n",
    "menor_score = np.inf\n",
    "vec = np.nan\n",
    "\n",
    "for k in vecinos:\n",
    "    #Hacer el modelo\n",
    "    modelo = KNeighborsClassifier(n_neighbors= k)\n",
    "    #Hacer el fit\n",
    "    modelo.fit(X_escalados_train, y_train)\n",
    "    #Predecir los de train y los de test\n",
    "    y_pred_train = modelo.predict(X_escalados_train)\n",
    "    y_pred_test = modelo.predict(X_escalados_test)\n",
    "    #Hacer los scores y meterlos a las listas\n",
    "    accuracy_train = metrics.accuracy_score(y_train, y_pred_train)\n",
    "    train_scores.append( 1 - accuracy_train)\n",
    "    accuracy_test = metrics.accuracy_score(y_test, y_pred_test)\n",
    "    test_scores.append(1- accuracy_test)\n",
    "    \n",
    "    if (1- accuracy_test) < menor_score:\n",
    "        menor_score = 1- accuracy_test\n",
    "        vec = k\n",
    "print('Menor error de test', round(menor_score,5))\n",
    "print('Numero de vecinos mas cercanos optimo', vec)"
   ]
  },
  {
   "cell_type": "code",
   "execution_count": 30,
   "metadata": {},
   "outputs": [
    {
     "data": {
      "image/png": "[encoded data removed]",
      "text/plain": [
       "<Figure size 720x540 with 1 Axes>"
      ]
     },
     "metadata": {
      "needs_background": "light"
     },
     "output_type": "display_data"
    }
   ],
   "source": [
    "plt.figure(figsize=(10,7.5))\n",
    "plt.plot(vecinos, train_scores, c=\"black\", label=\"Entrenamiento\")\n",
    "plt.plot(vecinos, test_scores, c=\"green\", linestyle=\"--\", label=\"Prueba\")\n",
    "plt.xlabel('Número de Vecinos')\n",
    "plt.ylabel('Error de Clasificación')\n",
    "plt.gca().invert_xaxis()\n",
    "plt.legend(loc = \"lower left\")\n",
    "plt.show()"
   ]
  },
  {
   "cell_type": "markdown",
   "metadata": {},
   "source": [
    "Normalmente la grafica de training disminuye a medida que el modelo se va complejizando (menos K) y la de test tiene forma de U. Sin embargo, por la naturaleza de los datos, las graficas tienen ese resultado. Igual se puede buscar el numero optimo de vecinos y el menor error de testeo. El mejor modelo es uno no tan complejo con 483 vecinos."
   ]
  }
 ],
 "metadata": {
  "kernelspec": {
   "display_name": "Python 3",
   "language": "python",
   "name": "python3"
  },
  "language_info": {
   "codemirror_mode": {
    "name": "ipython",
    "version": 3
   },
   "file_extension": ".py",
   "mimetype": "text/x-python",
   "name": "python",
   "nbconvert_exporter": "python",
   "pygments_lexer": "ipython3",
   "version": "3.7.4"
  }
 },
 "nbformat": 4,
 "nbformat_minor": 4
}
